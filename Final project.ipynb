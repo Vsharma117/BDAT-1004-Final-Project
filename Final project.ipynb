{
 "cells": [
  {
   "cell_type": "code",
   "execution_count": 19,
   "id": "eb34b4a2-0530-4c6b-bafd-170d726798fe",
   "metadata": {},
   "outputs": [
    {
     "name": "stdout",
     "output_type": "stream",
     "text": [
      "HTTP Status Code: 200\n",
      "City: London\n"
     ]
    },
    {
     "ename": "KeyError",
     "evalue": "'values'",
     "output_type": "error",
     "traceback": [
      "\u001b[1;31m---------------------------------------------------------------------------\u001b[0m",
      "\u001b[1;31mKeyError\u001b[0m                                  Traceback (most recent call last)",
      "Cell \u001b[1;32mIn[19], line 25\u001b[0m\n\u001b[0;32m     23\u001b[0m \u001b[38;5;28;01mif\u001b[39;00m weather_data:\n\u001b[0;32m     24\u001b[0m     \u001b[38;5;28mprint\u001b[39m(\u001b[38;5;124mf\u001b[39m\u001b[38;5;124m\"\u001b[39m\u001b[38;5;124mCity: \u001b[39m\u001b[38;5;132;01m{\u001b[39;00mCITY\u001b[38;5;132;01m}\u001b[39;00m\u001b[38;5;124m\"\u001b[39m)\n\u001b[1;32m---> 25\u001b[0m     \u001b[38;5;28mprint\u001b[39m(\u001b[38;5;124mf\u001b[39m\u001b[38;5;124m\"\u001b[39m\u001b[38;5;124mTemperature: \u001b[39m\u001b[38;5;132;01m{\u001b[39;00mweather_data[\u001b[38;5;124m'\u001b[39m\u001b[38;5;124mvalues\u001b[39m\u001b[38;5;124m'\u001b[39m][\u001b[38;5;124m'\u001b[39m\u001b[38;5;124mtemperature\u001b[39m\u001b[38;5;124m'\u001b[39m]\u001b[38;5;132;01m}\u001b[39;00m\u001b[38;5;124m°C\u001b[39m\u001b[38;5;124m\"\u001b[39m)\n\u001b[0;32m     26\u001b[0m     \u001b[38;5;28mprint\u001b[39m(\u001b[38;5;124mf\u001b[39m\u001b[38;5;124m\"\u001b[39m\u001b[38;5;124mPrecipitation Type: \u001b[39m\u001b[38;5;132;01m{\u001b[39;00mweather_data[\u001b[38;5;124m'\u001b[39m\u001b[38;5;124mvalues\u001b[39m\u001b[38;5;124m'\u001b[39m][\u001b[38;5;124m'\u001b[39m\u001b[38;5;124mprecipitationType\u001b[39m\u001b[38;5;124m'\u001b[39m]\u001b[38;5;132;01m}\u001b[39;00m\u001b[38;5;124m\"\u001b[39m)\n\u001b[0;32m     27\u001b[0m     \u001b[38;5;28mprint\u001b[39m(\u001b[38;5;124mf\u001b[39m\u001b[38;5;124m\"\u001b[39m\u001b[38;5;124mHumidity: \u001b[39m\u001b[38;5;132;01m{\u001b[39;00mweather_data[\u001b[38;5;124m'\u001b[39m\u001b[38;5;124mvalues\u001b[39m\u001b[38;5;124m'\u001b[39m][\u001b[38;5;124m'\u001b[39m\u001b[38;5;124mhumidity\u001b[39m\u001b[38;5;124m'\u001b[39m]\u001b[38;5;132;01m}\u001b[39;00m\u001b[38;5;124m%\u001b[39m\u001b[38;5;124m\"\u001b[39m)\n",
      "\u001b[1;31mKeyError\u001b[0m: 'values'"
     ]
    }
   ],
   "source": [
    "import requests\n",
    "\n",
    "# Your API key from Tomorrow.io\n",
    "API_KEY = '72Jrf3ZVRv9fXiRSKw7OQSVU4PN7MH5b'\n",
    "CITY = 'London'  # You can change this to any city you want\n",
    "LAT = 51.5074    # Latitude for London (or any location)\n",
    "LON = -0.1278    # Longitude for London (or any location)\n",
    "\n",
    "# Base URL for the Tomorrow.io weather API\n",
    "URL = f'https://api.tomorrow.io/v4/timelines?location={LAT},{LON}&fields=temperature,precipitationType,humidity&timesteps=current&apikey={API_KEY}'\n",
    "\n",
    "# Send GET request to Tomorrow.io API\n",
    "response = requests.get(URL)\n",
    "\n",
    "# Print the HTTP status code for debugging\n",
    "print(f\"HTTP Status Code: {response.status_code}\")\n",
    "\n",
    "# Check if the request was successful\n",
    "if response.status_code == 200:\n",
    "    data = response.json()  # Parse the JSON response\n",
    "    # Print out some of the key weather data\n",
    "    weather_data = data.get('data', {}).get('timelines', [])[0]\n",
    "    if weather_data:\n",
    "        print(f\"City: {CITY}\")\n",
    "        print(f\"Temperature: {weather_data['values']['temperature']}°C\")\n",
    "        print(f\"Precipitation Type: {weather_data['values']['precipitationType']}\")\n",
    "        print(f\"Humidity: {weather_data['values']['humidity']}%\")\n",
    "    else:\n",
    "        print(\"No weather data available.\")\n",
    "else:\n",
    "    print(\"Failed to retrieve data.\")\n",
    "    print(\"Response:\", response.text)\n"
   ]
  },
  {
   "cell_type": "code",
   "execution_count": 47,
   "id": "27a6f6fd-9d5a-432e-8cdf-1d7e56eab717",
   "metadata": {},
   "outputs": [
    {
     "name": "stdout",
     "output_type": "stream",
     "text": [
      "Python executable: C:\\Users\\shock\\anaconda3\\python.exe\n",
      "Python version: 3.12.7 | packaged by Anaconda, Inc. | (main, Oct  4 2024, 13:17:27) [MSC v.1929 64 bit (AMD64)]\n",
      "Script started\n"
     ]
    }
   ],
   "source": [
    "import sys\n",
    "print(\"Python executable:\", sys.executable)\n",
    "print(\"Python version:\", sys.version)\n",
    "print(\"Script started\")\n"
   ]
  },
  {
   "cell_type": "code",
   "execution_count": 21,
   "id": "f59c81a6-f421-4b13-9068-9da327ecf810",
   "metadata": {},
   "outputs": [
    {
     "name": "stdout",
     "output_type": "stream",
     "text": [
      "{'data': {'timelines': [{'timestep': 'current', 'endTime': '2024-12-12T10:24:00Z', 'startTime': '2024-12-12T10:24:00Z', 'intervals': [{'startTime': '2024-12-12T10:24:00Z', 'values': {'humidity': 94, 'precipitationType': 0, 'temperature': 6.63}}]}]}}\n"
     ]
    }
   ],
   "source": [
    "print(response.json())  # Prints the full JSON response to inspect the structure\n",
    "\n"
   ]
  },
  {
   "cell_type": "code",
   "execution_count": 23,
   "id": "19e3bbf2-cb57-4190-9aba-8ed7dd6e0044",
   "metadata": {},
   "outputs": [
    {
     "name": "stdout",
     "output_type": "stream",
     "text": [
      "HTTP Status Code: 200\n",
      "City: London\n",
      "Temperature: 6.63°C\n",
      "Humidity: 94%\n",
      "Precipitation Type: 0\n"
     ]
    }
   ],
   "source": [
    "import requests\n",
    "\n",
    "# Your new API key from Tomorrow.io\n",
    "API_KEY = '72Jrf3ZVRv9fXiRSKw7OQSVU4PN7MH5b'\n",
    "LAT = 51.5074    # Latitude for London (or your preferred location)\n",
    "LON = -0.1278    # Longitude for London (or your preferred location)\n",
    "\n",
    "# API request URL\n",
    "URL = f'https://api.tomorrow.io/v4/timelines?location={LAT},{LON}&fields=temperature,precipitationType,humidity&timesteps=current&apikey={API_KEY}'\n",
    "\n",
    "# Send GET request to Tomorrow.io API\n",
    "response = requests.get(URL)\n",
    "\n",
    "# Print the HTTP Status Code for debugging\n",
    "print(f\"HTTP Status Code: {response.status_code}\")\n",
    "\n",
    "# Check if the request was successful\n",
    "if response.status_code == 200:\n",
    "    data = response.json()  # Parse the JSON response\n",
    "    # Access the weather data\n",
    "    timeline_data = data.get('data', {}).get('timelines', [])[0].get('intervals', [])[0].get('values', {})\n",
    "    \n",
    "    if timeline_data:\n",
    "        temperature = timeline_data.get('temperature', 'N/A')\n",
    "        humidity = timeline_data.get('humidity', 'N/A')\n",
    "        precipitation = timeline_data.get('precipitationType', 'N/A')\n",
    "        \n",
    "        print(f\"City: London\")\n",
    "        print(f\"Temperature: {temperature}°C\")\n",
    "        print(f\"Humidity: {humidity}%\")\n",
    "        print(f\"Precipitation Type: {precipitation}\")\n",
    "    else:\n",
    "        print(\"No weather data available.\")\n",
    "else:\n",
    "    print(\"Failed to retrieve data.\")\n",
    "    print(\"Response:\", response.text)\n"
   ]
  },
  {
   "cell_type": "code",
   "execution_count": 29,
   "id": "23bb9dde-c275-4cf4-bec8-0cef6ac5d273",
   "metadata": {},
   "outputs": [],
   "source": [
    "URL = f'https://api.tomorrow.io/v4/timelines?location={LAT},{LON}&fields=temperature,precipitationType,humidity,windSpeed,pressure&timesteps=current&apikey={API_KEY}'\n"
   ]
  },
  {
   "cell_type": "code",
   "execution_count": 33,
   "id": "ce248d2c-7c1e-4364-a0c1-a018c8dc164c",
   "metadata": {},
   "outputs": [
    {
     "name": "stdout",
     "output_type": "stream",
     "text": [
      "HTTP Status Code: 200\n",
      "City: London\n",
      "Temperature: 6.63°C\n",
      "Humidity: 94%\n",
      "Precipitation Type: 0\n",
      "Wind Speed: 1.31 m/s\n"
     ]
    }
   ],
   "source": [
    "import requests\n",
    "\n",
    "# Your API key from Tomorrow.io\n",
    "API_KEY = '72Jrf3ZVRv9fXiRSKw7OQSVU4PN7MH5b'\n",
    "LAT = 51.5074    # Latitude for London (or your preferred location)\n",
    "LON = -0.1278    # Longitude for London (or your preferred location)\n",
    "\n",
    "# API request URL (removed 'pressure' field as it's invalid)\n",
    "URL = f'https://api.tomorrow.io/v4/timelines?location={LAT},{LON}&fields=temperature,precipitationType,humidity,windSpeed&timesteps=current&apikey={API_KEY}'\n",
    "\n",
    "# Send GET request to Tomorrow.io API\n",
    "response = requests.get(URL)\n",
    "\n",
    "# Print the HTTP Status Code for debugging\n",
    "print(f\"HTTP Status Code: {response.status_code}\")\n",
    "\n",
    "# Check if the request was successful\n",
    "if response.status_code == 200:\n",
    "    data = response.json()  # Parse the JSON response\n",
    "    # Access the weather data\n",
    "    timeline_data = data.get('data', {}).get('timelines', [])[0].get('intervals', [])[0].get('values', {})\n",
    "    \n",
    "    if timeline_data:\n",
    "        temperature = timeline_data.get('temperature', 'N/A')\n",
    "        humidity = timeline_data.get('humidity', 'N/A')\n",
    "        precipitation = timeline_data.get('precipitationType', 'N/A')\n",
    "        wind_speed = timeline_data.get('windSpeed', 'N/A')\n",
    "        \n",
    "        print(f\"City: London\")\n",
    "        print(f\"Temperature: {temperature}°C\")\n",
    "        print(f\"Humidity: {humidity}%\")\n",
    "        print(f\"Precipitation Type: {precipitation}\")\n",
    "        print(f\"Wind Speed: {wind_speed} m/s\")\n",
    "    else:\n",
    "        print(\"No weather data available.\")\n",
    "else:\n",
    "    print(\"Failed to retrieve data.\")\n",
    "    print(\"Response:\", response.text)\n"
   ]
  },
  {
   "cell_type": "code",
   "execution_count": 35,
   "id": "8c66a444-284c-495a-9f18-ba5ae5bffe8f",
   "metadata": {},
   "outputs": [
    {
     "name": "stdout",
     "output_type": "stream",
     "text": [
      "Requirement already satisfied: matplotlib in c:\\users\\shock\\anaconda3\\lib\\site-packages (3.9.2)\n",
      "Requirement already satisfied: contourpy>=1.0.1 in c:\\users\\shock\\anaconda3\\lib\\site-packages (from matplotlib) (1.2.0)\n",
      "Requirement already satisfied: cycler>=0.10 in c:\\users\\shock\\anaconda3\\lib\\site-packages (from matplotlib) (0.11.0)\n",
      "Requirement already satisfied: fonttools>=4.22.0 in c:\\users\\shock\\anaconda3\\lib\\site-packages (from matplotlib) (4.51.0)\n",
      "Requirement already satisfied: kiwisolver>=1.3.1 in c:\\users\\shock\\anaconda3\\lib\\site-packages (from matplotlib) (1.4.4)\n",
      "Requirement already satisfied: numpy>=1.23 in c:\\users\\shock\\anaconda3\\lib\\site-packages (from matplotlib) (1.26.4)\n",
      "Requirement already satisfied: packaging>=20.0 in c:\\users\\shock\\anaconda3\\lib\\site-packages (from matplotlib) (24.1)\n",
      "Requirement already satisfied: pillow>=8 in c:\\users\\shock\\anaconda3\\lib\\site-packages (from matplotlib) (10.4.0)\n",
      "Requirement already satisfied: pyparsing>=2.3.1 in c:\\users\\shock\\anaconda3\\lib\\site-packages (from matplotlib) (3.1.2)\n",
      "Requirement already satisfied: python-dateutil>=2.7 in c:\\users\\shock\\anaconda3\\lib\\site-packages (from matplotlib) (2.9.0.post0)\n",
      "Requirement already satisfied: six>=1.5 in c:\\users\\shock\\anaconda3\\lib\\site-packages (from python-dateutil>=2.7->matplotlib) (1.16.0)\n",
      "Note: you may need to restart the kernel to use updated packages.\n"
     ]
    }
   ],
   "source": [
    "pip install matplotlib\n"
   ]
  },
  {
   "cell_type": "code",
   "execution_count": 37,
   "id": "d69a0f16-ea87-440c-b999-f8e53728b65d",
   "metadata": {},
   "outputs": [
    {
     "data": {
      "image/png": "[encoded data removed]",
      "text/plain": [
       "<Figure size 640x480 with 1 Axes>"
      ]
     },
     "metadata": {},
     "output_type": "display_data"
    }
   ],
   "source": [
    "import matplotlib.pyplot as plt\n",
    "\n",
    "# Example weather data (replace these with actual fetched data)\n",
    "temperature = 6.63  # Replace with actual temperature data\n",
    "humidity = 94       # Replace with actual humidity data\n",
    "wind_speed = 5.2    # Replace with actual wind speed data\n",
    "\n",
    "# Labels and values for the bar chart\n",
    "labels = ['Temperature (°C)', 'Humidity (%)', 'Wind Speed (m/s)']\n",
    "values = [temperature, humidity, wind_speed]\n",
    "\n",
    "# Create the bar chart\n",
    "plt.bar(labels, values)\n",
    "plt.title('Weather Data for London')\n",
    "plt.ylabel('Values')\n",
    "plt.show()\n"
   ]
  },
  {
   "cell_type": "code",
   "execution_count": 39,
   "id": "f0564612-5706-469e-886d-0678381a9326",
   "metadata": {},
   "outputs": [
    {
     "name": "stdout",
     "output_type": "stream",
     "text": [
      "HTTP Status Code: 200\n"
     ]
    }
   ],
   "source": [
    "print(f\"HTTP Status Code: {response.status_code}\")\n"
   ]
  },
  {
   "cell_type": "code",
   "execution_count": 41,
   "id": "b3f54999-e2ee-494e-a27d-83f3d754afdb",
   "metadata": {},
   "outputs": [
    {
     "name": "stdout",
     "output_type": "stream",
     "text": [
      "API data fetched successfully\n",
      "{'data': {'timelines': [{'timestep': 'current', 'endTime': '2024-12-12T10:28:00Z', 'startTime': '2024-12-12T10:28:00Z', 'intervals': [{'startTime': '2024-12-12T10:28:00Z', 'values': {'humidity': 94, 'precipitationType': 0, 'temperature': 6.63, 'windSpeed': 1.31}}]}]}}\n"
     ]
    }
   ],
   "source": [
    "if response.status_code == 200:\n",
    "    data = response.json()\n",
    "    if not data:\n",
    "        print(\"No data returned from the API.\")\n",
    "    else:\n",
    "        print(\"API data fetched successfully\")\n",
    "        print(data)\n",
    "else:\n",
    "    print(\"Failed to retrieve data.\")\n",
    "    print(response.text)\n"
   ]
  },
  {
   "cell_type": "code",
   "execution_count": 43,
   "id": "af47753e-cff9-41e8-936a-8e40ab823023",
   "metadata": {},
   "outputs": [
    {
     "name": "stdout",
     "output_type": "stream",
     "text": [
      "HTTP Status Code: 200\n",
      "API data fetched successfully\n",
      "City: London\n",
      "Temperature: 6.81°C\n",
      "Humidity: 94%\n",
      "Precipitation Type: 0\n",
      "Wind Speed: 1.13 m/s\n"
     ]
    }
   ],
   "source": [
    "import requests\n",
    "\n",
    "# Your API key from Tomorrow.io\n",
    "API_KEY = '72Jrf3ZVRv9fXiRSKw7OQSVU4PN7MH5b'\n",
    "LAT = 51.5074    # Latitude for London (or your preferred location)\n",
    "LON = -0.1278    # Longitude for London (or your preferred location)\n",
    "\n",
    "# API request URL\n",
    "URL = f'https://api.tomorrow.io/v4/timelines?location={LAT},{LON}&fields=temperature,precipitationType,humidity,windSpeed&timesteps=current&apikey={API_KEY}'\n",
    "\n",
    "# Send GET request to Tomorrow.io API\n",
    "response = requests.get(URL)\n",
    "\n",
    "# Print the HTTP Status Code for debugging\n",
    "print(f\"HTTP Status Code: {response.status_code}\")\n",
    "\n",
    "# Check if the request was successful\n",
    "if response.status_code == 200:\n",
    "    data = response.json()  # Parse the JSON response\n",
    "    print(\"API data fetched successfully\")\n",
    "    \n",
    "    # Access the values from the API response\n",
    "    timeline_data = data.get('data', {}).get('timelines', [])[0].get('intervals', [])[0].get('values', {})\n",
    "    \n",
    "    if timeline_data:\n",
    "        temperature = timeline_data.get('temperature', 'N/A')\n",
    "        humidity = timeline_data.get('humidity', 'N/A')\n",
    "        precipitation = timeline_data.get('precipitationType', 'N/A')\n",
    "        wind_speed = timeline_data.get('windSpeed', 'N/A')\n",
    "        \n",
    "        print(f\"City: London\")\n",
    "        print(f\"Temperature: {temperature}°C\")\n",
    "        print(f\"Humidity: {humidity}%\")\n",
    "        print(f\"Precipitation Type: {precipitation}\")\n",
    "        print(f\"Wind Speed: {wind_speed} m/s\")\n",
    "    else:\n",
    "        print(\"No weather data available.\")\n",
    "else:\n",
    "    print(\"Failed to retrieve data.\")\n",
    "    print(\"Response:\", response.text)\n"
   ]
  },
  {
   "cell_type": "code",
   "execution_count": 45,
   "id": "2b9579a2-cbc2-4fbd-ba35-45b19dcc5f27",
   "metadata": {},
   "outputs": [
    {
     "name": "stdout",
     "output_type": "stream",
     "text": [
      "Script started\n",
      "HTTP Status Code: 200\n",
      "API data fetched successfully\n",
      "City: London\n",
      "Temperature: 6.81°C\n",
      "Humidity: 94%\n",
      "Precipitation Type: 0\n",
      "Wind Speed: 1.13 m/s\n",
      "Script completed\n"
     ]
    }
   ],
   "source": [
    "import requests\n",
    "\n",
    "# Print at the start of the script to confirm it's running\n",
    "print(\"Script started\")\n",
    "\n",
    "# Your API key from Tomorrow.io\n",
    "API_KEY = '72Jrf3ZVRv9fXiRSKw7OQSVU4PN7MH5b'\n",
    "LAT = 51.5074    # Latitude for London (or your preferred location)\n",
    "LON = -0.1278    # Longitude for London (or your preferred location)\n",
    "\n",
    "# API request URL\n",
    "URL = f'https://api.tomorrow.io/v4/timelines?location={LAT},{LON}&fields=temperature,precipitationType,humidity,windSpeed&timesteps=current&apikey={API_KEY}'\n",
    "\n",
    "# Send GET request to Tomorrow.io API\n",
    "response = requests.get(URL)\n",
    "\n",
    "# Print the HTTP Status Code for debugging\n",
    "print(f\"HTTP Status Code: {response.status_code}\")\n",
    "\n",
    "# Check for the content of the response\n",
    "if response.status_code == 200:\n",
    "    data = response.json()  # Parse the JSON response\n",
    "    print(\"API data fetched successfully\")\n",
    "    \n",
    "    # Access the values from the API response\n",
    "    timeline_data = data.get('data', {}).get('timelines', [])[0].get('intervals', [])[0].get('values', {})\n",
    "    \n",
    "    if timeline_data:\n",
    "        temperature = timeline_data.get('temperature', 'N/A')\n",
    "        humidity = timeline_data.get('humidity', 'N/A')\n",
    "        precipitation = timeline_data.get('precipitationType', 'N/A')\n",
    "        wind_speed = timeline_data.get('windSpeed', 'N/A')\n",
    "        \n",
    "        print(f\"City: London\")\n",
    "        print(f\"Temperature: {temperature}°C\")\n",
    "        print(f\"Humidity: {humidity}%\")\n",
    "        print(f\"Precipitation Type: {precipitation}\")\n",
    "        print(f\"Wind Speed: {wind_speed} m/s\")\n",
    "    else:\n",
    "        print(\"No weather data available.\")\n",
    "else:\n",
    "    print(\"Failed to retrieve data.\")\n",
    "    print(\"Response:\", response.text)\n",
    "\n",
    "# Print at the end of the script to confirm completion\n",
    "print(\"Script completed\")\n"
   ]
  },
  {
   "cell_type": "code",
   "execution_count": 49,
   "id": "1d0ef7cb-a382-4da7-85cd-b2e47435644d",
   "metadata": {},
   "outputs": [
    {
     "name": "stdout",
     "output_type": "stream",
     "text": [
      "Script started\n",
      "Making API request to: https://api.tomorrow.io/v4/timelines?location=51.5074,-0.1278&fields=temperature,precipitationType,humidity,windSpeed&timesteps=current&apikey=72Jrf3ZVRv9fXiRSKw7OQSVU4PN7MH5b\n",
      "HTTP Status Code: 200\n",
      "Full API Response:\n",
      "{\"data\":{\"timelines\":[{\"timestep\":\"current\",\"endTime\":\"2024-12-12T11:15:00Z\",\"startTime\":\"2024-12-12T11:15:00Z\",\"intervals\":[{\"startTime\":\"2024-12-12T11:15:00Z\",\"values\":{\"humidity\":94,\"precipitationType\":0,\"temperature\":6.81,\"windSpeed\":1.13}}]}]}}\n",
      "API data fetched successfully\n",
      "API Response Data:\n",
      "{'data': {'timelines': [{'timestep': 'current', 'endTime': '2024-12-12T11:15:00Z', 'startTime': '2024-12-12T11:15:00Z', 'intervals': [{'startTime': '2024-12-12T11:15:00Z', 'values': {'humidity': 94, 'precipitationType': 0, 'temperature': 6.81, 'windSpeed': 1.13}}]}]}}\n",
      "Timeline Data Found:\n",
      "{'humidity': 94, 'precipitationType': 0, 'temperature': 6.81, 'windSpeed': 1.13}\n",
      "City: London\n",
      "Temperature: 6.81°C\n",
      "Humidity: 94%\n",
      "Precipitation Type: 0\n",
      "Wind Speed: 1.13 m/s\n",
      "Script completed\n"
     ]
    }
   ],
   "source": [
    "import requests\n",
    "\n",
    "# Print at the start of the script to confirm it's running\n",
    "print(\"Script started\")\n",
    "\n",
    "# Your API key from Tomorrow.io\n",
    "API_KEY = '72Jrf3ZVRv9fXiRSKw7OQSVU4PN7MH5b'\n",
    "LAT = 51.5074    # Latitude for London (or your preferred location)\n",
    "LON = -0.1278    # Longitude for London (or your preferred location)\n",
    "\n",
    "# API request URL\n",
    "URL = f'https://api.tomorrow.io/v4/timelines?location={LAT},{LON}&fields=temperature,precipitationType,humidity,windSpeed&timesteps=current&apikey={API_KEY}'\n",
    "\n",
    "# Send GET request to Tomorrow.io API\n",
    "print(f\"Making API request to: {URL}\")\n",
    "response = requests.get(URL)\n",
    "\n",
    "# Print the HTTP Status Code for debugging\n",
    "print(f\"HTTP Status Code: {response.status_code}\")\n",
    "\n",
    "# Check the full response content\n",
    "print(\"Full API Response:\")\n",
    "print(response.text)  # This will show the raw response from the API\n",
    "\n",
    "# Check if the request was successful\n",
    "if response.status_code == 200:\n",
    "    data = response.json()  # Parse the JSON response\n",
    "    print(\"API data fetched successfully\")\n",
    "\n",
    "    # Access and print the structure of the response\n",
    "    print(\"API Response Data:\")\n",
    "    print(data)\n",
    "\n",
    "    # Proceed with extracting data if the structure is correct\n",
    "    if 'data' in data and 'timelines' in data['data']:\n",
    "        timelines = data['data']['timelines']\n",
    "        if len(timelines) > 0 and 'intervals' in timelines[0]:\n",
    "            intervals = timelines[0]['intervals']\n",
    "            if len(intervals) > 0 and 'values' in intervals[0]:\n",
    "                timeline_data = intervals[0]['values']\n",
    "                print(\"Timeline Data Found:\")\n",
    "                print(timeline_data)  # Print out the values dictionary\n",
    "                \n",
    "                # Access weather data safely, using None if not available\n",
    "                temperature = timeline_data.get('temperature', 'N/A')\n",
    "                humidity = timeline_data.get('humidity', 'N/A')\n",
    "                precipitation = timeline_data.get('precipitationType', 'N/A')\n",
    "                wind_speed = timeline_data.get('windSpeed', 'N/A')\n",
    "                \n",
    "                # Print the weather data\n",
    "                print(f\"City: London\")\n",
    "                print(f\"Temperature: {temperature}°C\")\n",
    "                print(f\"Humidity: {humidity}%\")\n",
    "                print(f\"Precipitation Type: {precipitation}\")\n",
    "                print(f\"Wind Speed: {wind_speed} m/s\")\n",
    "            else:\n",
    "                print(\"No 'values' data in the response.\")\n",
    "        else:\n",
    "            print(\"No 'intervals' data in the response.\")\n",
    "    else:\n",
    "        print(\"No 'timelines' or 'data' in the response.\")\n",
    "else:\n",
    "    print(\"Failed to retrieve data.\")\n",
    "    print(\"Response:\", response.text)\n",
    "\n",
    "# Print at the end of the script to confirm completion\n",
    "print(\"Script completed\")\n"
   ]
  },
  {
   "cell_type": "code",
   "execution_count": null,
   "id": "4501addc-5429-4172-a10f-125cd9f2a8fa",
   "metadata": {},
   "outputs": [],
   "source": [
    "import matplotlib.pyplot as plt\n",
    "\n",
    "# Example time (hourly intervals)\n",
    "time = ['00:00', '01:00', '02:00', '03:00', '04:00', '05:00']\n",
    "\n",
    "# Example temperatures for these times\n",
    "temperatures = [6.5, 6.3, 6.1, 5.9, 5.8, 5.7]\n",
    "\n",
    "# Create a line plot for temperature over time\n",
    "plt.figure(figsize=(8, 5))\n",
    "plt.plot(time, temperatures, marker='o', color='b')\n",
    "\n",
    "# Adding title and labels\n",
    "plt.title('Temperature Forecast Over Time')\n",
    "plt.xlabel('Time')\n",
    "plt.ylabel('Temperature (°C)')\n",
    "\n",
    "# Show the plot\n",
    "plt.grid(True)\n",
    "plt.show()\n",
    "\n"
   ]
  },
  {
   "cell_type": "code",
   "execution_count": null,
   "id": "3173071f-80e2-49be-ac69-4fa5498b0f20",
   "metadata": {},
   "outputs": [],
   "source": []
  },
  {
   "cell_type": "code",
   "execution_count": null,
   "id": "735137c6-9047-48bb-8582-a4f0d8e16a22",
   "metadata": {},
   "outputs": [],
   "source": []
  }
 ],
 "metadata": {
  "kernelspec": {
   "display_name": "Python [conda env:base] *",
   "language": "python",
   "name": "conda-base-py"
  },
  "language_info": {
   "codemirror_mode": {
    "name": "ipython",
    "version": 3
   },
   "file_extension": ".py",
   "mimetype": "text/x-python",
   "name": "python",
   "nbconvert_exporter": "python",
   "pygments_lexer": "ipython3",
   "version": "3.12.7"
  }
 },
 "nbformat": 4,
 "nbformat_minor": 5
}
